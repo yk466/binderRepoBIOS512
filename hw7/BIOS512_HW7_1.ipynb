{
  "cells": [
    {
      "cell_type": "markdown",
      "id": "766a4c53-5596-4e39-9082-8e97c8e59c41",
      "metadata": {
        "id": "766a4c53-5596-4e39-9082-8e97c8e59c41"
      },
      "source": [
        "# Homework 7\n",
        "This homework is based on the advanced Git lectures."
      ]
    },
    {
      "cell_type": "markdown",
      "id": "bbb6e943-d49a-4d2e-81f3-59c2d1a3be31",
      "metadata": {
        "id": "bbb6e943-d49a-4d2e-81f3-59c2d1a3be31"
      },
      "source": [
        "## Question 1\n",
        "#### What is the holy trinity of Git? (Just name the parts.)"
      ]
    },
    {
      "cell_type": "markdown",
      "source": [
        "The head, the tree, and the stage"
      ],
      "metadata": {
        "id": "mSXgirR4M2Ff"
      },
      "id": "mSXgirR4M2Ff"
    },
    {
      "cell_type": "markdown",
      "id": "47bc27c0-290e-4e94-a071-a37ff613a7c8",
      "metadata": {
        "id": "47bc27c0-290e-4e94-a071-a37ff613a7c8"
      },
      "source": [
        "## Question 2\n",
        "#### Explain how patches relate to the idea of committing a change to the history of your code?"
      ]
    },
    {
      "cell_type": "markdown",
      "source": [
        "Patches are supplemental information that describe how the code was changed from a previous commit to the next."
      ],
      "metadata": {
        "id": "87aQfYRNNEjI"
      },
      "id": "87aQfYRNNEjI"
    },
    {
      "cell_type": "markdown",
      "id": "9aa99e0b-8fbe-4ccc-a728-b39b1fda153c",
      "metadata": {
        "id": "9aa99e0b-8fbe-4ccc-a728-b39b1fda153c"
      },
      "source": [
        "## Question 3\n",
        "#### What is the difference between a branch and a fork?"
      ]
    },
    {
      "cell_type": "markdown",
      "source": [
        "A branch is a separate linear series of commits while a fork is a copy of an existing repository that is independent."
      ],
      "metadata": {
        "id": "GoijkwCuO4DC"
      },
      "id": "GoijkwCuO4DC"
    },
    {
      "cell_type": "markdown",
      "id": "c6ac98c7-e4ea-4274-a88d-398cb739fab9",
      "metadata": {
        "id": "c6ac98c7-e4ea-4274-a88d-398cb739fab9"
      },
      "source": [
        "## Question 4\n",
        "#### How are diff and patch related? What’s the difference?"
      ]
    },
    {
      "cell_type": "markdown",
      "source": [
        "Diff and patch are related through the changes between commits. diffs are what change the data and patches are the textual representation of a diff."
      ],
      "metadata": {
        "id": "b3Tx8PSUOZk6"
      },
      "id": "b3Tx8PSUOZk6"
    },
    {
      "cell_type": "markdown",
      "id": "02988321-54d5-4086-a62f-d6f7a5961c22",
      "metadata": {
        "id": "02988321-54d5-4086-a62f-d6f7a5961c22"
      },
      "source": [
        "## Question 5\n",
        "#### See the diagram below.\n",
        "```\n",
        "alice            *-*-*-*-d-e     \n",
        "bob              *-*-*-*-a-b-c\n",
        "origin/main      *-*-*-*-a-b-c-d-e-d-e\n",
        "```\n",
        "#### a) What part of the Git trininty does each line represent?\n",
        "#### b) What would the result be if Alice performed a rebase? Edit the diagram. What would she type in the terminal to rebase, then push?\n",
        "#### c) What would the result be if Alice performed a merge? Edit the diagram. What would she type in the terminal to merge, then push?\n",
        "#### d) Which would be the better option (rebase vs. merge)? Why?"
      ]
    },
    {
      "cell_type": "markdown",
      "source": [
        "a) Alice and bob represent the head of the commits they are currently workin on and the last line would be the tree.\n",
        "\n",
        "b)\n",
        "\n",
        "git checkout alice\n",
        "\n",
        "git rebase origin/main\n",
        "\n",
        "c)\n",
        "\n",
        "git checkout alice\n",
        "\n",
        "git merge origin/main\n",
        "\n",
        "git push\n",
        "\n",
        "d)\n",
        "The better option would be rebase because it elminates redundant steps within the commit history."
      ],
      "metadata": {
        "id": "03VyILWbPULd"
      },
      "id": "03VyILWbPULd"
    },
    {
      "cell_type": "markdown",
      "id": "65b5eb8a-cee0-4a97-b89c-8746c37669ea",
      "metadata": {
        "id": "65b5eb8a-cee0-4a97-b89c-8746c37669ea"
      },
      "source": [
        "## Question 6\n",
        "#### Match the command/vocab word to the description.\n",
        "You can edit the table!\n",
        "\n",
        "| Command / Vocab     | Answer | Description |\n",
        "|---------------------|------------|------------|\n",
        "| git stash          |  | B.  Takes any changes that haven't been committed and puts them in a dust bin |\n",
        "| git push           |  | J.  Pushes the new commits to the main branch |\n",
        "| git clone          |  | N.  Makes a copy of an existing repo at in a new directory at another location |\n",
        "| git commit         |  | M.  Saves file changes to the main branch |\n",
        "| git log            |  | A.  Gives project history |\n",
        "| git add -i         | | K.  Interactive staging! |\n",
        "| git rebase         |  | P.  Combines branches by moving commits onto the tip of another branch, creating a linear history |\n",
        "| git init           |  | Q. Creates a new git repository |\n",
        "| git checkout       |  | E.  Moves something from the branch to the working copy |\n",
        "| git status         |  | F.  Lists which files are staged, unstaged, and untracked |\n",
        "| git diff           |  | O.  Compares current, unsaved changes to the main branch |\n",
        "| git merge          |  | H.  Combines two branches together in a way that is not ideal for your collaborators |\n",
        "| git add            |  | I.  Adds changes from the working directory to the staging area |\n",
        "| git pull           |  | D.  Retrieves any commits on the remote branch that you don’t yet have locally and integrates them into your current branch |\n",
        "| git show           |  | G.  Displays information about a specific commit |\n",
        "| git blame          |  | C.  Shows who last modified each line of a file and in which commit |\n",
        "| .gitignore         |  | L.  Text file that contains names of files Git should not track |"
      ]
    },
    {
      "cell_type": "markdown",
      "id": "36663f18-7e8a-4400-86ef-1cbda6b508c1",
      "metadata": {
        "id": "36663f18-7e8a-4400-86ef-1cbda6b508c1"
      },
      "source": [
        "## Question 7\n",
        "#### Walk me through how you would do interactive staging.\n",
        "#### a) Firstly, what situation would interactive staging be useful in?\n",
        "#### b) What command(s) help you prepare for what you'll see while interactive staging?\n",
        "*Hint*: Check the TA notes.\n",
        "#### b) What git command would you use to start interactive staging?\n",
        "\n",
        "#### c) On the text-based interactive menu, what option do you use?\n",
        "\n",
        "#### d) After pressing that option, how do you select the file you want to stage?\n",
        "\n",
        "#### e) What option do you type if you do not want to stage a hunk?\n",
        "\n",
        "#### f) Once you get to a hunk you want to stage, what do you do?\n",
        "\n",
        "#### g) What if we have more hunks we want to stage?\n"
      ]
    },
    {
      "cell_type": "markdown",
      "source": [
        "a) Interactive staging would be useful in cases where you have changed multiple things in your code but you want to keep a clean commit history in case you need to revert something.\n",
        "\n",
        "b) git status and git add -i\n",
        "\n",
        "c) p\n",
        "\n",
        "d) you can select it using indexing\n",
        "\n",
        "e) n\n",
        "\n",
        "f) type y\n",
        "\n",
        "g) you can either stage them using y or choose not to using n"
      ],
      "metadata": {
        "id": "wfVK7e7oVRxJ"
      },
      "id": "wfVK7e7oVRxJ"
    }
  ],
  "metadata": {
    "kernelspec": {
      "display_name": "Python 3 (ipykernel)",
      "language": "python",
      "name": "python3"
    },
    "language_info": {
      "codemirror_mode": {
        "name": "ipython",
        "version": 3
      },
      "file_extension": ".py",
      "mimetype": "text/x-python",
      "name": "python",
      "nbconvert_exporter": "python",
      "pygments_lexer": "ipython3",
      "version": "3.10.16"
    },
    "colab": {
      "provenance": []
    }
  },
  "nbformat": 4,
  "nbformat_minor": 5
}